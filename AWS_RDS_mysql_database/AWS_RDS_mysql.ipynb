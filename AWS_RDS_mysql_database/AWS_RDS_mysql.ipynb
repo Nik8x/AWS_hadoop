{
 "cells": [
  {
   "cell_type": "markdown",
   "metadata": {},
   "source": [
    "![](aws/RDS_Images/1.png)\n",
    "**select create database**\n",
    "\n",
    "![](aws/RDS_Images/2.png)\n",
    "**after choosing mysql click on the free tier**\n",
    "\n",
    "![](aws/RDS_Images/3.png)\n",
    "\n",
    "![](aws/RDS_Images/4.png)\n",
    "\n",
    "![](aws/RDS_Images/5.png)\n",
    "\n",
    "![](aws/RDS_Images/6.png)\n",
    "\n",
    "![](aws/RDS_Images/7.png)\n",
    "\n",
    "![](aws/RDS_Images/8.png)\n",
    "\n",
    "![](aws/RDS_Images/9.png)\n",
    "\n",
    "![](aws/RDS_Images/10.png)\n",
    "\n",
    "![](aws/RDS_Images/11.png)\n",
    "\n",
    "![](aws/RDS_Images/12.png)\n",
    "\n",
    "![](aws/RDS_Images/13.png)\n",
    "\n",
    "![](aws/RDS_Images/14.png)\n",
    "\n",
    "![](aws/RDS_Images/15.png)"
   ]
  },
  {
   "cell_type": "code",
   "execution_count": 33,
   "metadata": {},
   "outputs": [
    {
     "name": "stdout",
     "output_type": "stream",
     "text": [
      "Collecting pymysql\n",
      "  Downloading https://files.pythonhosted.org/packages/ed/39/15045ae46f2a123019aa968dfcba0396c161c20f855f11dea6796bcaae95/PyMySQL-0.9.3-py2.py3-none-any.whl (47kB)\n",
      "Installing collected packages: pymysql\n",
      "Successfully installed pymysql-0.9.3\n"
     ]
    },
    {
     "name": "stderr",
     "output_type": "stream",
     "text": [
      "WARNING: You are using pip version 19.1, however version 19.1.1 is available.\n",
      "You should consider upgrading via the 'python -m pip install --upgrade pip' command.\n"
     ]
    }
   ],
   "source": [
    "!pip install pymysql"
   ]
  },
  {
   "cell_type": "code",
   "execution_count": 111,
   "metadata": {},
   "outputs": [],
   "source": [
    "import pymysql.cursors\n",
    "import pandas as pd\n",
    "\n",
    "import csv\n",
    "\n",
    "from IPython.core.interactiveshell import InteractiveShell\n",
    "InteractiveShell.ast_node_interactivity = \"all\""
   ]
  },
  {
   "cell_type": "code",
   "execution_count": 53,
   "metadata": {},
   "outputs": [],
   "source": [
    "connection = pymysql.connect(\n",
    "    host = 'myawssql.cytf4bcdtf95.us-east-1.rds.amazonaws.com',\n",
    "    port = 3306,\n",
    "    user = 'nikawssql',\n",
    "    password = 'nikawssql',\n",
    "    database='mydb'\n",
    "    )\n",
    "cursor = connection.cursor()"
   ]
  },
  {
   "cell_type": "markdown",
   "metadata": {},
   "source": [
    "Let's see how many databases are here"
   ]
  },
  {
   "cell_type": "code",
   "execution_count": 54,
   "metadata": {},
   "outputs": [
    {
     "data": {
      "text/plain": [
       "6"
      ]
     },
     "execution_count": 54,
     "metadata": {},
     "output_type": "execute_result"
    },
    {
     "data": {
      "text/html": [
       "<div>\n",
       "<style scoped>\n",
       "    .dataframe tbody tr th:only-of-type {\n",
       "        vertical-align: middle;\n",
       "    }\n",
       "\n",
       "    .dataframe tbody tr th {\n",
       "        vertical-align: top;\n",
       "    }\n",
       "\n",
       "    .dataframe thead th {\n",
       "        text-align: right;\n",
       "    }\n",
       "</style>\n",
       "<table border=\"1\" class=\"dataframe\">\n",
       "  <thead>\n",
       "    <tr style=\"text-align: right;\">\n",
       "      <th></th>\n",
       "      <th>Database</th>\n",
       "    </tr>\n",
       "  </thead>\n",
       "  <tbody>\n",
       "    <tr>\n",
       "      <th>0</th>\n",
       "      <td>information_schema</td>\n",
       "    </tr>\n",
       "    <tr>\n",
       "      <th>1</th>\n",
       "      <td>innodb</td>\n",
       "    </tr>\n",
       "    <tr>\n",
       "      <th>2</th>\n",
       "      <td>mydb</td>\n",
       "    </tr>\n",
       "    <tr>\n",
       "      <th>3</th>\n",
       "      <td>mysql</td>\n",
       "    </tr>\n",
       "    <tr>\n",
       "      <th>4</th>\n",
       "      <td>performance_schema</td>\n",
       "    </tr>\n",
       "    <tr>\n",
       "      <th>5</th>\n",
       "      <td>sys</td>\n",
       "    </tr>\n",
       "  </tbody>\n",
       "</table>\n",
       "</div>"
      ],
      "text/plain": [
       "             Database\n",
       "0  information_schema\n",
       "1              innodb\n",
       "2                mydb\n",
       "3               mysql\n",
       "4  performance_schema\n",
       "5                 sys"
      ]
     },
     "execution_count": 54,
     "metadata": {},
     "output_type": "execute_result"
    }
   ],
   "source": [
    "cursor.execute(\"\"\"show databases\"\"\")\n",
    "\n",
    "pd.read_sql(\"show databases\", con = connection)"
   ]
  },
  {
   "cell_type": "markdown",
   "metadata": {},
   "source": [
    "we can see that our 'mydb' database is there"
   ]
  },
  {
   "cell_type": "markdown",
   "metadata": {},
   "source": [
    "And we currently have no tables in our database"
   ]
  },
  {
   "cell_type": "markdown",
   "metadata": {},
   "source": [
    "Let's create tables, we will be using Transaction data\n",
    "We will create 7 tables\n",
    "\n",
    "![](https://web.archive.org/web/20161019192412im_/http://lisp.vse.cz/pkdd99/data.gif)\n",
    "\n",
    "[Guide to the Financial Data Set](https://web.archive.org/web/20161019192412/http://lisp.vse.cz/pkdd99/berka.htm)\n",
    "    \n",
    "[1999 Czech Financial Dataset - Real Anonymized Transactions](https://data.world/lpetrocelli/czech-financial-dataset-real-anonymized-transactions)"
   ]
  },
  {
   "cell_type": "code",
   "execution_count": 20,
   "metadata": {},
   "outputs": [
    {
     "data": {
      "text/plain": [
       "0"
      ]
     },
     "execution_count": 20,
     "metadata": {},
     "output_type": "execute_result"
    }
   ],
   "source": [
    "cursor.execute(\"\"\"CREATE TABLE demograph\n",
    "(\n",
    "   district_id int primary key,\n",
    "   name text,\n",
    "   place text,\n",
    "   a0 INT,\n",
    "   a1 float,\n",
    "   a2 float,\n",
    "   a3 float,\n",
    "   a4 float,\n",
    "   a5 float,\n",
    "   a6 float,\n",
    "   a7 float,\n",
    "   a8 float,\n",
    "   a9 float,\n",
    "   a10 float,\n",
    "   a11 float,\n",
    "   a12 float\n",
    ")\"\"\")\n",
    "               \n",
    "cursor.execute(\"\"\"CREATE TABLE account\n",
    "(\n",
    "    account_id int primary key,\n",
    "    district_id int,\n",
    "    frequency text,\n",
    "    dated datetime,\n",
    "    Constraint fk_demograph_account Foreign Key (district_id) References demograph(district_id)\n",
    ")\"\"\")               \n",
    "               \n",
    "cursor.execute(\"\"\"CREATE TABLE loan(\n",
    "    loan_id int,\n",
    "    account_id int, \n",
    "    date timestamp, \n",
    "    amount decimal(20, 3),\n",
    "    duration int,\n",
    "    payments decimal(20, 3),\n",
    "    status text,\n",
    "    Constraint fk_account_loan Foreign Key (account_id) References account(account_id)\n",
    ")\"\"\")              \n",
    "               \n",
    "cursor.execute(\"\"\"CREATE TABLE permanent_order\n",
    "(\n",
    "    order_id int,\n",
    "    account_id int, \n",
    "    bank_to text, \n",
    "    account_to int,\n",
    "    amount float,\n",
    "    k_symbol text,\n",
    "    Constraint fk_account_order Foreign Key (account_id) References account(account_id)\n",
    ")\"\"\")               \n",
    "               \n",
    "cursor.execute(\"\"\"CREATE TABLE client\n",
    "(\n",
    "    client_id int primary key,\n",
    "    birth_number int,\n",
    "    district_id int,\n",
    "    Constraint fk_demograph_client Foreign Key (district_id) References demograph(district_id)\n",
    ")\"\"\")             \n",
    "               \n",
    "cursor.execute(\"\"\"CREATE TABLE disposition\n",
    "(\n",
    "    disp_id int primary key,\n",
    "    client_id int,\n",
    "    account_id int,\n",
    "    type text,\n",
    "    Constraint fk_account_disposition Foreign Key (account_id) References account(account_id),\n",
    "    Constraint fk_client_disposition Foreign Key (client_id) References client(client_id)\n",
    ")\"\"\")                \n",
    "               \n",
    "cursor.execute(\"\"\"CREATE TABLE credit_card\n",
    "(\n",
    "    card_id int,\n",
    "    disp_id int,\n",
    "    type text,\n",
    "    issued text,\n",
    "    Constraint fk_disposition_credit_card Foreign Key (disp_id) References disposition(disp_id)\n",
    ")\"\"\")               "
   ]
  },
  {
   "cell_type": "markdown",
   "metadata": {},
   "source": [
    "Loading data into tables from csv files"
   ]
  },
  {
   "cell_type": "code",
   "execution_count": null,
   "metadata": {},
   "outputs": [],
   "source": [
    "#### demograph\n",
    "with open('Anti_money_Laundering/district.csv', newline = '') as csvfile:\n",
    "    next(csvfile)\n",
    "    x = csv.reader(csvfile, delimiter = ';')\n",
    "    \n",
    "    for row in x:\n",
    "        cursor.execute(\"\"\"INSERT INTO demograph (district_id, name, place, a0, a1, a2, a3, a4, a5, a6, a7, a8, a9, a10, a11, a12)\n",
    "        VALUES(%s, %s, %s, %s, %s, %s, %s, %s, %s, %s, %s, %s, %s, %s, %s, %s)\"\"\", row)\n",
    "    #cursor.close()\n",
    "print(\"Imported district\")\n",
    "\n",
    "#### account\n",
    "with open('Anti_money_Laundering/account.csv', newline='') as csvfile:\n",
    "    next(csvfile)\n",
    "    x = csv.reader(csvfile, delimiter=';')\n",
    "    \n",
    "    for row in x:\n",
    "        cursor.execute(\"\"\"INSERT INTO account (account_id, district_id, frequency, dated)\n",
    "        VALUES(%s, %s, %s, %s)\"\"\", row)\n",
    "    #cursor.close()\n",
    "connection.commit()\n",
    "print(\"Imported account\")\n",
    "\n",
    "#### loan\n",
    "with open('Anti_money_Laundering/loan.csv', newline='') as csvfile:\n",
    "    next(csvfile)\n",
    "    x = csv.reader(csvfile, delimiter=';')\n",
    "    \n",
    "    for row in x:\n",
    "        cursor.execute(\"\"\"INSERT INTO loan (loan_id, account_id, date, amount, duration, payments, status)\n",
    "        VALUES(%s, %s, %s, %s, %s, %s, %s)\"\"\", row)\n",
    "    #cursor.close()\n",
    "connection.commit()\n",
    "print(\"Imported loan\")\n",
    "\n",
    "\n",
    "#### permanent_order\n",
    "with open('Anti_money_Laundering/order.csv', newline='') as csvfile:\n",
    "    next(csvfile)\n",
    "    x = csv.reader(csvfile, delimiter=';')\n",
    "    \n",
    "    for row in x:\n",
    "        cursor.execute(\"\"\"INSERT INTO permanent_order (order_id, account_id, bank_to, account_to, amount, k_symbol)\n",
    "        VALUES(%s, %s, %s, %s, %s, %s)\"\"\", row)\n",
    "    #cursor.close()\n",
    "connection.commit()\n",
    "print(\"Imported permanent_order\")\n",
    "\n",
    "#### client\n",
    "with open('Anti_money_Laundering/client.csv', newline='') as csvfile:\n",
    "    next(csvfile)\n",
    "    x = csv.reader(csvfile, delimiter=';')\n",
    "    \n",
    "    for row in x:\n",
    "        cursor.execute(\"\"\"INSERT INTO client (client_id, birth_number, district_id)\n",
    "        VALUES(%s, %s, %s)\"\"\", row)\n",
    "    #cursor.close()\n",
    "connection.commit()\n",
    "print(\"Imported client\")\n",
    "\n",
    "\n",
    "#### disposition\n",
    "with open('Anti_money_Laundering/disp.csv', newline='') as csvfile:\n",
    "    next(csvfile)\n",
    "    x = csv.reader(csvfile, delimiter=';')\n",
    "    \n",
    "    for row in x:\n",
    "        cursor.execute(\"\"\"INSERT INTO disposition (disp_id, client_id, account_id, type)\n",
    "        VALUES(%s, %s, %s, %s)\"\"\", row)\n",
    "    #cursor.close()\n",
    "connection.commit()\n",
    "print(\"Imported disposition\")\n",
    "\n",
    "\n",
    "#### credit_card\n",
    "with open('Anti_money_Laundering/card.csv', newline='') as csvfile:\n",
    "    next(csvfile)\n",
    "    x = csv.reader(csvfile, delimiter=';')\n",
    "    \n",
    "    for row in x:\n",
    "        cursor.execute(\"\"\"INSERT INTO credit_card (card_id, disp_id, type, issued)\n",
    "        VALUES(%s, %s, %s, %s)\"\"\", row)\n",
    "    #cursor.close()\n",
    "connection.commit()\n",
    "print(\"Imported credit_card\")"
   ]
  },
  {
   "cell_type": "code",
   "execution_count": 78,
   "metadata": {},
   "outputs": [
    {
     "data": {
      "text/html": [
       "<div>\n",
       "<style scoped>\n",
       "    .dataframe tbody tr th:only-of-type {\n",
       "        vertical-align: middle;\n",
       "    }\n",
       "\n",
       "    .dataframe tbody tr th {\n",
       "        vertical-align: top;\n",
       "    }\n",
       "\n",
       "    .dataframe thead th {\n",
       "        text-align: right;\n",
       "    }\n",
       "</style>\n",
       "<table border=\"1\" class=\"dataframe\">\n",
       "  <thead>\n",
       "    <tr style=\"text-align: right;\">\n",
       "      <th></th>\n",
       "      <th>name</th>\n",
       "      <th>place</th>\n",
       "      <th>dated</th>\n",
       "      <th>frequency</th>\n",
       "    </tr>\n",
       "  </thead>\n",
       "  <tbody>\n",
       "    <tr>\n",
       "      <th>0</th>\n",
       "      <td>Benesov</td>\n",
       "      <td>central Bohemia</td>\n",
       "      <td>1996-06-12</td>\n",
       "      <td>POPLATEK MESICNE</td>\n",
       "    </tr>\n",
       "    <tr>\n",
       "      <th>1</th>\n",
       "      <td>Havlickuv Brod</td>\n",
       "      <td>east Bohemia</td>\n",
       "      <td>1996-11-24</td>\n",
       "      <td>POPLATEK MESICNE</td>\n",
       "    </tr>\n",
       "    <tr>\n",
       "      <th>2</th>\n",
       "      <td>Ceska Lipa</td>\n",
       "      <td>north Bohemia</td>\n",
       "      <td>1993-05-10</td>\n",
       "      <td>POPLATEK MESICNE</td>\n",
       "    </tr>\n",
       "    <tr>\n",
       "      <th>3</th>\n",
       "      <td>Bruntal</td>\n",
       "      <td>north Moravia</td>\n",
       "      <td>1993-09-17</td>\n",
       "      <td>POPLATEK TYDNE</td>\n",
       "    </tr>\n",
       "    <tr>\n",
       "      <th>4</th>\n",
       "      <td>Hl.m. Praha</td>\n",
       "      <td>Prague</td>\n",
       "      <td>1993-02-26</td>\n",
       "      <td>POPLATEK MESICNE</td>\n",
       "    </tr>\n",
       "    <tr>\n",
       "      <th>5</th>\n",
       "      <td>Ceske Budejovice</td>\n",
       "      <td>south Bohemia</td>\n",
       "      <td>1997-04-25</td>\n",
       "      <td>POPLATEK MESICNE</td>\n",
       "    </tr>\n",
       "    <tr>\n",
       "      <th>6</th>\n",
       "      <td>Blansko</td>\n",
       "      <td>south Moravia</td>\n",
       "      <td>1995-03-10</td>\n",
       "      <td>POPLATEK MESICNE</td>\n",
       "    </tr>\n",
       "    <tr>\n",
       "      <th>7</th>\n",
       "      <td>Domazlice</td>\n",
       "      <td>west Bohemia</td>\n",
       "      <td>1993-08-26</td>\n",
       "      <td>POPLATEK MESICNE</td>\n",
       "    </tr>\n",
       "  </tbody>\n",
       "</table>\n",
       "</div>"
      ],
      "text/plain": [
       "               name            place      dated         frequency\n",
       "0           Benesov  central Bohemia 1996-06-12  POPLATEK MESICNE\n",
       "1    Havlickuv Brod     east Bohemia 1996-11-24  POPLATEK MESICNE\n",
       "2        Ceska Lipa    north Bohemia 1993-05-10  POPLATEK MESICNE\n",
       "3           Bruntal    north Moravia 1993-09-17    POPLATEK TYDNE\n",
       "4       Hl.m. Praha           Prague 1993-02-26  POPLATEK MESICNE\n",
       "5  Ceske Budejovice    south Bohemia 1997-04-25  POPLATEK MESICNE\n",
       "6           Blansko    south Moravia 1995-03-10  POPLATEK MESICNE\n",
       "7         Domazlice     west Bohemia 1993-08-26  POPLATEK MESICNE"
      ]
     },
     "execution_count": 78,
     "metadata": {},
     "output_type": "execute_result"
    }
   ],
   "source": [
    "pd.read_sql(\"\"\"SELECT d.name, d.place, a.dated, a.frequency from demograph d JOIN account a\n",
    "                ON d.district_id = a.district_id group by place\"\"\", con = connection)"
   ]
  },
  {
   "cell_type": "code",
   "execution_count": 112,
   "metadata": {},
   "outputs": [
    {
     "data": {
      "text/plain": [
       "7"
      ]
     },
     "execution_count": 112,
     "metadata": {},
     "output_type": "execute_result"
    },
    {
     "data": {
      "text/html": [
       "<div>\n",
       "<style scoped>\n",
       "    .dataframe tbody tr th:only-of-type {\n",
       "        vertical-align: middle;\n",
       "    }\n",
       "\n",
       "    .dataframe tbody tr th {\n",
       "        vertical-align: top;\n",
       "    }\n",
       "\n",
       "    .dataframe thead th {\n",
       "        text-align: right;\n",
       "    }\n",
       "</style>\n",
       "<table border=\"1\" class=\"dataframe\">\n",
       "  <thead>\n",
       "    <tr style=\"text-align: right;\">\n",
       "      <th></th>\n",
       "      <th>Tables_in_mydb</th>\n",
       "    </tr>\n",
       "  </thead>\n",
       "  <tbody>\n",
       "    <tr>\n",
       "      <th>0</th>\n",
       "      <td>account</td>\n",
       "    </tr>\n",
       "    <tr>\n",
       "      <th>1</th>\n",
       "      <td>client</td>\n",
       "    </tr>\n",
       "    <tr>\n",
       "      <th>2</th>\n",
       "      <td>credit_card</td>\n",
       "    </tr>\n",
       "    <tr>\n",
       "      <th>3</th>\n",
       "      <td>demograph</td>\n",
       "    </tr>\n",
       "    <tr>\n",
       "      <th>4</th>\n",
       "      <td>disposition</td>\n",
       "    </tr>\n",
       "    <tr>\n",
       "      <th>5</th>\n",
       "      <td>loan</td>\n",
       "    </tr>\n",
       "    <tr>\n",
       "      <th>6</th>\n",
       "      <td>permanent_order</td>\n",
       "    </tr>\n",
       "  </tbody>\n",
       "</table>\n",
       "</div>"
      ],
      "text/plain": [
       "    Tables_in_mydb\n",
       "0          account\n",
       "1           client\n",
       "2      credit_card\n",
       "3        demograph\n",
       "4      disposition\n",
       "5             loan\n",
       "6  permanent_order"
      ]
     },
     "execution_count": 112,
     "metadata": {},
     "output_type": "execute_result"
    }
   ],
   "source": [
    "cursor.execute(\"\"\"show tables\"\"\")\n",
    "pd.read_sql(\"show tables\", con = connection)"
   ]
  },
  {
   "cell_type": "code",
   "execution_count": null,
   "metadata": {},
   "outputs": [],
   "source": []
  }
 ],
 "metadata": {
  "kernelspec": {
   "display_name": "Python 3",
   "language": "python",
   "name": "python3"
  },
  "language_info": {
   "codemirror_mode": {
    "name": "ipython",
    "version": 3
   },
   "file_extension": ".py",
   "mimetype": "text/x-python",
   "name": "python",
   "nbconvert_exporter": "python",
   "pygments_lexer": "ipython3",
   "version": "3.6.8"
  }
 },
 "nbformat": 4,
 "nbformat_minor": 2
}
