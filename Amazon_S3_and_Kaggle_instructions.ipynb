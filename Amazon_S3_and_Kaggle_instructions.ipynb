{
  "nbformat": 4,
  "nbformat_minor": 0,
  "metadata": {
    "colab": {
      "name": "Art_Images_S3andKaggle_instructions.ipynb",
      "version": "0.3.2",
      "provenance": [],
      "collapsed_sections": [],
      "include_colab_link": true
    },
    "kernelspec": {
      "display_name": "Python 3",
      "language": "python",
      "name": "python3"
    }
  },
  "cells": [
    {
      "cell_type": "markdown",
      "metadata": {
        "id": "view-in-github",
        "colab_type": "text"
      },
      "source": [
        "<a href=\"https://colab.research.google.com/github/Nik8x/aws_hadoop/blob/master/Amazon_S3_and_Kaggle_instructions.ipynb\" target=\"_parent\"><img src=\"https://colab.research.google.com/assets/colab-badge.svg\" alt=\"Open In Colab\"/></a>"
      ]
    },
    {
      "metadata": {
        "id": "wmtYxDCPTg48",
        "colab_type": "code",
        "colab": {}
      },
      "cell_type": "code",
      "source": [
        "# download data from kaggle instructions"
      ],
      "execution_count": 0,
      "outputs": []
    },
    {
      "metadata": {
        "colab_type": "code",
        "id": "oL8Li1AB7bbc",
        "colab": {}
      },
      "cell_type": "code",
      "source": [
        "!pip install kaggle"
      ],
      "execution_count": 0,
      "outputs": []
    },
    {
      "metadata": {
        "colab_type": "code",
        "id": "d9mGsOLe7gae",
        "colab": {}
      },
      "cell_type": "code",
      "source": [
        "!mkdir ~/.kaggle/"
      ],
      "execution_count": 0,
      "outputs": []
    },
    {
      "metadata": {
        "colab_type": "code",
        "id": "oqsEx7Fl7jAh",
        "outputId": "a010bb9a-9b36-4774-b712-bd85cd6dd438",
        "colab": {
          "base_uri": "https://localhost:8080/",
          "height": 34
        }
      },
      "cell_type": "code",
      "source": [
        "%%writefile ~/.kaggle/kaggle.json\n",
        "{\"username\":\"-------\",\"key\":\"-------------------------------\"}"
      ],
      "execution_count": 0,
      "outputs": [
        {
          "output_type": "stream",
          "text": [
            "Writing /home/ec2-user/.kaggle/kaggle.json\n"
          ],
          "name": "stdout"
        }
      ]
    },
    {
      "metadata": {
        "colab_type": "code",
        "id": "ecrtxO9t7njS",
        "outputId": "3793938b-2085-4c2e-f810-a56cba837949",
        "colab": {
          "base_uri": "https://localhost:8080/",
          "height": 34
        }
      },
      "cell_type": "code",
      "source": [
        "!cat ~/.kaggle/kaggle.json"
      ],
      "execution_count": 0,
      "outputs": [
        {
          "output_type": "stream",
          "text": [
            "{\"username\":\"ms1720\",\"key\":\"fe33ee51d3cd448375e4d24c335c3c76\"}"
          ],
          "name": "stdout"
        }
      ]
    },
    {
      "metadata": {
        "colab_type": "code",
        "id": "uIujLFW88iDR",
        "colab": {}
      },
      "cell_type": "code",
      "source": [
        "!chmod 600 ~/.kaggle/kaggle.json"
      ],
      "execution_count": 0,
      "outputs": []
    },
    {
      "metadata": {
        "colab_type": "code",
        "id": "2fBnSlBL7qB0",
        "outputId": "7405424c-b8a7-4ac3-eedb-f7938e17087c",
        "colab": {
          "base_uri": "https://localhost:8080/",
          "height": 187
        }
      },
      "cell_type": "code",
      "source": [
        "!pip show kaggle"
      ],
      "execution_count": 0,
      "outputs": [
        {
          "output_type": "stream",
          "text": [
            "Name: kaggle\n",
            "Version: 1.5.3\n",
            "Summary: Kaggle API\n",
            "Home-page: https://github.com/Kaggle/kaggle-api\n",
            "Author: Kaggle\n",
            "Author-email: support@kaggle.com\n",
            "License: Apache 2.0\n",
            "Location: /home/ec2-user/anaconda3/lib/python3.6/site-packages\n",
            "Requires: tqdm, certifi, six, python-slugify, urllib3, python-dateutil, requests\n",
            "\u001b[33mYou are using pip version 9.0.1, however version 19.0.3 is available.\n",
            "You should consider upgrading via the 'pip install --upgrade pip' command.\u001b[0m\n"
          ],
          "name": "stdout"
        }
      ]
    },
    {
      "metadata": {
        "colab_type": "code",
        "id": "y4Y6aCFe7sir",
        "outputId": "42bcedb3-1715-49e4-82ac-2a890d6ff725",
        "colab": {
          "base_uri": "https://localhost:8080/",
          "height": 340
        }
      },
      "cell_type": "code",
      "source": [
        "!kaggle competitions files -c painter-by-numbers"
      ],
      "execution_count": 0,
      "outputs": [
        {
          "output_type": "stream",
          "text": [
            "name                                   size  creationDate         \r\n",
            "------------------------------------  -----  -------------------  \r\n",
            "test.zip                               11GB  2016-04-20 01:25:58  \r\n",
            "train.zip                              36GB  2016-04-23 23:00:49  \r\n",
            "train_info.csv.zip                      2MB  2016-04-28 21:23:01  \r\n",
            "sampleSubmission.csv.zip               49MB  2016-04-28 21:23:37  \r\n",
            "submission_info.csv.zip               111MB  2016-04-28 21:24:19  \r\n",
            "train_1.zip                             5GB  2016-05-13 20:49:17  \r\n",
            "train_2.zip                             4GB  2016-05-13 20:49:18  \r\n",
            "train_3.zip                             4GB  2016-05-13 20:49:18  \r\n",
            "train_4.zip                             4GB  2016-05-13 20:49:18  \r\n",
            "train_5.zip                             4GB  2016-05-13 20:49:18  \r\n",
            "train_6.zip                             4GB  2016-05-13 21:13:48  \r\n",
            "train_7.zip                             4GB  2016-05-13 21:13:48  \r\n",
            "train_8.zip                             4GB  2016-05-13 21:13:48  \r\n",
            "train_9.zip                             4GB  2016-05-13 21:13:48  \r\n",
            "replacements_for_corrupted_files.zip   17MB  2016-05-25 20:51:48  \r\n",
            "all_data_info.csv.zip                   4MB  2016-11-04 22:29:01  \r\n",
            "solution_painter.csv.zip               49MB  2016-11-04 22:36:27  \r\n"
          ],
          "name": "stdout"
        }
      ]
    },
    {
      "metadata": {
        "colab_type": "code",
        "id": "aP30lvdA77Qm",
        "outputId": "3522f686-2ef9-4129-8829-82d9c68a926e",
        "colab": {
          "base_uri": "https://localhost:8080/",
          "height": 34
        }
      },
      "cell_type": "code",
      "source": [
        "!kaggle competitions download -c painter-by-numbers"
      ],
      "execution_count": 0,
      "outputs": [
        {
          "output_type": "stream",
          "text": [
            "test.zip: Skipping, found more recently modified local copy (use --force to force download)\n",
            "Downloading train.zip to /home/ec2-user/Notebooks\n",
            "100%|█████████████████████████████████████▉| 36.0G/36.0G [09:58<00:00, 62.7MB/s]\n",
            "100%|██████████████████████████████████████| 36.0G/36.0G [09:58<00:00, 64.7MB/s]\n",
            "Downloading train_info.csv.zip to /home/ec2-user/Notebooks\n",
            "  0%|                                               | 0.00/2.44M [00:00<?, ?B/s]\n",
            "100%|██████████████████████████████████████| 2.44M/2.44M [00:00<00:00, 94.1MB/s]\n",
            "Downloading sampleSubmission.csv.zip to /home/ec2-user/Notebooks\n",
            " 84%|███████████████████████████████▊      | 41.0M/49.0M [00:01<00:00, 34.5MB/s]\n",
            "100%|██████████████████████████████████████| 49.0M/49.0M [00:01<00:00, 45.4MB/s]\n",
            "^C\n",
            "User cancelled operation\n"
          ],
          "name": "stdout"
        }
      ]
    },
    {
      "metadata": {
        "id": "UWLuFBEuTn7G",
        "colab_type": "code",
        "colab": {}
      },
      "cell_type": "code",
      "source": [
        "# interacting with data stored in s3 bucket"
      ],
      "execution_count": 0,
      "outputs": []
    },
    {
      "metadata": {
        "id": "RYo3wavcTQH3",
        "colab_type": "text"
      },
      "cell_type": "markdown",
      "source": [
        "[Interacting with AWS S3 using Python in a Jupyter notebook](http://carolynlangen.com/2017/11/22/interacting-with-aws-s3-using-python-in-a-jupyter-notebook/)\n",
        "\n",
        "[Batch upload files to Amazon S3 using the AWS CLI](https://aws.amazon.com/getting-started/tutorials/backup-to-s3-cli/)\n",
        "\n",
        "[Using AWS to Untar a File and Transfer Files from EC2 to an S3 Bucket](https://medium.com/@carolynjjankowski/using-aws-to-untar-a-file-and-transfer-files-to-an-s3-bucket-e24384045515)\n",
        "\n",
        "[Increase running Instance storage](https://docs.aws.amazon.com/AWSEC2/latest/UserGuide/recognize-expanded-volume-linux.html)"
      ]
    },
    {
      "metadata": {
        "colab_type": "code",
        "id": "TfFuNGNq92ss",
        "colab": {},
        "outputId": "9bc34ffd-b82c-4685-fd1f-7f5afca7dd82"
      },
      "cell_type": "code",
      "source": [
        "!df -h"
      ],
      "execution_count": 0,
      "outputs": [
        {
          "output_type": "stream",
          "text": [
            "Filesystem      Size  Used Avail Use% Mounted on\r\n",
            "devtmpfs         31G     0   31G   0% /dev\r\n",
            "tmpfs            31G     0   31G   0% /dev/shm\r\n",
            "tmpfs            31G  484K   31G   1% /run\r\n",
            "tmpfs            31G     0   31G   0% /sys/fs/cgroup\r\n",
            "/dev/nvme0n1p1   72G   40G   33G  56% /\r\n",
            "tmpfs           6.2G     0  6.2G   0% /run/user/0\r\n",
            "tmpfs           6.2G   16K  6.2G   1% /run/user/1000\r\n"
          ],
          "name": "stdout"
        }
      ]
    },
    {
      "metadata": {
        "id": "WsIbW75FTQH7",
        "colab_type": "code",
        "colab": {},
        "outputId": "68ff7d8d-95b0-46f0-bc38-0aaf9c4f2f45"
      },
      "cell_type": "code",
      "source": [
        "!ls"
      ],
      "execution_count": 0,
      "outputs": [
        {
          "output_type": "stream",
          "text": [
            "Art_Images_kaggle_file_download (1).ipynb  test.zip\r\n",
            "Art_Image_updated-Mar11.ipynb\t\t   train_info.csv.zip\r\n",
            "sampleSubmission.csv.zip\t\t   train.zip\r\n"
          ],
          "name": "stdout"
        }
      ]
    },
    {
      "metadata": {
        "collapsed": true,
        "id": "w2tYBMJ2TQH9",
        "colab_type": "code",
        "colab": {},
        "outputId": "eb608d3d-4e8c-415f-a10e-bba0084a592a"
      },
      "cell_type": "code",
      "source": [
        "!pip install boto3\n",
        "import boto3, os"
      ],
      "execution_count": 0,
      "outputs": [
        {
          "output_type": "stream",
          "text": [
            "Requirement already satisfied: boto3 in /home/ec2-user/anaconda3/lib/python3.6/site-packages\n",
            "Requirement already satisfied: jmespath<1.0.0,>=0.7.1 in /home/ec2-user/anaconda3/lib/python3.6/site-packages (from boto3)\n",
            "Requirement already satisfied: s3transfer<0.3.0,>=0.2.0 in /home/ec2-user/anaconda3/lib/python3.6/site-packages (from boto3)\n",
            "Requirement already satisfied: botocore<1.13.0,>=1.12.112 in /home/ec2-user/anaconda3/lib/python3.6/site-packages (from boto3)\n",
            "Requirement already satisfied: urllib3<1.25,>=1.20; python_version >= \"3.4\" in /home/ec2-user/anaconda3/lib/python3.6/site-packages (from botocore<1.13.0,>=1.12.112->boto3)\n",
            "Requirement already satisfied: docutils>=0.10 in /home/ec2-user/anaconda3/lib/python3.6/site-packages (from botocore<1.13.0,>=1.12.112->boto3)\n",
            "Requirement already satisfied: python-dateutil<3.0.0,>=2.1; python_version >= \"2.7\" in /home/ec2-user/anaconda3/lib/python3.6/site-packages (from botocore<1.13.0,>=1.12.112->boto3)\n",
            "Requirement already satisfied: six>=1.5 in /home/ec2-user/anaconda3/lib/python3.6/site-packages (from python-dateutil<3.0.0,>=2.1; python_version >= \"2.7\"->botocore<1.13.0,>=1.12.112->boto3)\n",
            "\u001b[33mYou are using pip version 9.0.1, however version 19.0.3 is available.\n",
            "You should consider upgrading via the 'pip install --upgrade pip' command.\u001b[0m\n"
          ],
          "name": "stdout"
        }
      ]
    },
    {
      "metadata": {
        "id": "Xvql1E91TQIA",
        "colab_type": "code",
        "colab": {}
      },
      "cell_type": "code",
      "source": [
        "s3 = boto3.resource('s3')"
      ],
      "execution_count": 0,
      "outputs": []
    },
    {
      "metadata": {
        "id": "u73ni-KlTQIC",
        "colab_type": "code",
        "colab": {}
      },
      "cell_type": "code",
      "source": [
        "#aws s3 mb s3://art-project-57-michael  # from terminal\n",
        "#s3.create_bucket(Bucket='art-project-57-michael') # from jupyter notebook"
      ],
      "execution_count": 0,
      "outputs": []
    },
    {
      "metadata": {
        "scrolled": true,
        "id": "S7SD3tAATQIG",
        "colab_type": "code",
        "colab": {},
        "outputId": "42795ba0-ab50-45a3-c10f-7f741329afd2"
      },
      "cell_type": "code",
      "source": [
        "#! aws s3 ls\n",
        "for bucket in s3.buckets.all():\n",
        "    print(bucket.name)"
      ],
      "execution_count": 0,
      "outputs": [
        {
          "output_type": "stream",
          "text": [
            "art-project-57-michael\n",
            "aws-emr-resources-380352245711-eu-west-1\n",
            "aws-emr-resources-380352245711-us-east-2\n",
            "aws-logs-380352245711-eu-west-1\n",
            "aws-logs-380352245711-us-east-1\n",
            "aws-logs-380352245711-us-east-2\n",
            "aws-logs-380352245711-us-west-1\n",
            "aws-logs-380352245711-us-west-2\n",
            "galvanize22\n",
            "sandretto.emrdata\n"
          ],
          "name": "stdout"
        }
      ]
    },
    {
      "metadata": {
        "id": "XRg3blYnTQIK",
        "colab_type": "code",
        "colab": {}
      },
      "cell_type": "code",
      "source": [
        "s3.meta.client.upload_file('train.zip', 'art-project-57-michael', 'train.zip')"
      ],
      "execution_count": 0,
      "outputs": []
    },
    {
      "metadata": {
        "id": "jivDRBl1TQIL",
        "colab_type": "code",
        "colab": {}
      },
      "cell_type": "code",
      "source": [
        "!aws s3 sync s3://art-project-57-michael/ /home/ec2-user/Notebooks/s3 # to sync s3 bucket with ec2 instance"
      ],
      "execution_count": 0,
      "outputs": []
    },
    {
      "metadata": {
        "colab_type": "code",
        "id": "WLOAjaGU7Zdt",
        "outputId": "c7fec351-be01-4a40-a1ad-44716984aebd",
        "colab": {
          "base_uri": "https://localhost:8080/",
          "height": 34
        }
      },
      "cell_type": "code",
      "source": [
        "!ls"
      ],
      "execution_count": 0,
      "outputs": [
        {
          "output_type": "stream",
          "text": [
            "Art_Images_kaggle_file_download (1).ipynb  test.zip\r\n",
            "Art_Image_updated-Mar11.ipynb\t\t   train\r\n",
            "s3\t\t\t\t\t   train_info.csv.zip\r\n",
            "sampleSubmission.csv.zip\t\t   train.zip\r\n"
          ],
          "name": "stdout"
        }
      ]
    },
    {
      "metadata": {
        "id": "vi_pRUslTQIU",
        "colab_type": "code",
        "colab": {}
      },
      "cell_type": "code",
      "source": [
        "# sudo xfs_growfs /dev/nvme0n1p1 # to increase the volume size after increasing through ec2 "
      ],
      "execution_count": 0,
      "outputs": []
    },
    {
      "metadata": {
        "id": "pbgC9vA3TQIX",
        "colab_type": "code",
        "colab": {},
        "outputId": "82efc989-a358-43b2-c42b-d4dcd99ad584"
      },
      "cell_type": "code",
      "source": [
        "!lsblk"
      ],
      "execution_count": 0,
      "outputs": [
        {
          "output_type": "stream",
          "text": [
            "NAME          MAJ:MIN RM   SIZE RO TYPE MOUNTPOINT\r\n",
            "nvme1n1       259:0    0 279.4G  0 disk \r\n",
            "nvme2n1       259:1    0 279.4G  0 disk \r\n",
            "nvme0n1       259:2    0   120G  0 disk \r\n",
            "├─nvme0n1p1   259:3    0   120G  0 part /\r\n",
            "└─nvme0n1p128 259:4    0     1M  0 part \r\n"
          ],
          "name": "stdout"
        }
      ]
    },
    {
      "metadata": {
        "id": "98XlwUgETQIZ",
        "colab_type": "code",
        "colab": {},
        "outputId": "83a1f5e4-f925-4787-d389-3acd5144f66e"
      },
      "cell_type": "code",
      "source": [
        "!df -h"
      ],
      "execution_count": 0,
      "outputs": [
        {
          "output_type": "stream",
          "text": [
            "Filesystem      Size  Used Avail Use% Mounted on\r\n",
            "devtmpfs         31G     0   31G   0% /dev\r\n",
            "tmpfs            31G     0   31G   0% /dev/shm\r\n",
            "tmpfs            31G  460K   31G   1% /run\r\n",
            "tmpfs            31G     0   31G   0% /sys/fs/cgroup\r\n",
            "/dev/nvme0n1p1  120G   44G   77G  37% /\r\n",
            "tmpfs           6.2G   16K  6.2G   1% /run/user/1000\r\n"
          ],
          "name": "stdout"
        }
      ]
    },
    {
      "metadata": {
        "id": "3uCeCZntTQId",
        "colab_type": "code",
        "colab": {}
      },
      "cell_type": "code",
      "source": [
        "# to sync local folder to s3 bucket\n",
        "!aws s3 sync train s3://art-project-57-michael/train"
      ],
      "execution_count": 0,
      "outputs": []
    }
  ]
}